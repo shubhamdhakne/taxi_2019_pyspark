{
 "cells": [
  {
   "cell_type": "code",
   "execution_count": 0,
   "metadata": {
    "application/vnd.databricks.v1+cell": {
     "cellMetadata": {
      "byteLimit": 2048000,
      "rowLimit": 10000
     },
     "inputWidgets": {},
     "nuid": "2f073f1b-e616-4acf-a24f-8eaddbf12dff",
     "showTitle": false,
     "title": ""
    }
   },
   "outputs": [
    {
     "output_type": "stream",
     "name": "stdout",
     "output_type": "stream",
     "text": [
      "+---+----------+\n| id|      date|\n+---+----------+\n|  1|2019-07-01|\n|  2|2019-06-24|\n|  3|2019-08-24|\n+---+----------+\n\n"
     ]
    }
   ],
   "source": [
    "data = [(\"1\",\"2019-07-01\"),(\"2\",\"2019-06-24\"),(\"3\",\"2019-08-24\")]\n",
    "\n",
    "df=spark.createDataFrame(data=data,schema=[\"id\",\"date\"])\n",
    "df.show()"
   ]
  },
  {
   "cell_type": "code",
   "execution_count": 0,
   "metadata": {
    "application/vnd.databricks.v1+cell": {
     "cellMetadata": {
      "byteLimit": 2048000,
      "rowLimit": 10000
     },
     "inputWidgets": {},
     "nuid": "88ec92aa-99ab-45af-81b8-26f564c1d122",
     "showTitle": false,
     "title": ""
    }
   },
   "outputs": [
    {
     "output_type": "stream",
     "name": "stdout",
     "output_type": "stream",
     "text": [
      "root\n |-- id: string (nullable = true)\n |-- date: string (nullable = true)\n\n"
     ]
    }
   ],
   "source": [
    "df.printSchema()"
   ]
  },
  {
   "cell_type": "code",
   "execution_count": 0,
   "metadata": {
    "application/vnd.databricks.v1+cell": {
     "cellMetadata": {
      "byteLimit": 2048000,
      "rowLimit": 10000
     },
     "inputWidgets": {},
     "nuid": "a487916a-58e1-4272-8541-e24c8cba19a9",
     "showTitle": false,
     "title": ""
    },
    "jupyter": {
     "outputs_hidden": true
    }
   },
   "outputs": [],
   "source": [
    "from pyspark.sql.functions import col,cast,current_date,datediff,months_between,round,lit\n"
   ]
  },
  {
   "cell_type": "markdown",
   "metadata": {
    "application/vnd.databricks.v1+cell": {
     "cellMetadata": {},
     "inputWidgets": {},
     "nuid": "20763b08-1ba1-4d2b-83cc-693e5046b2f3",
     "showTitle": true,
     "title": ""
    }
   },
   "source": [
    "###cast use to change the data type"
   ]
  },
  {
   "cell_type": "code",
   "execution_count": 0,
   "metadata": {
    "application/vnd.databricks.v1+cell": {
     "cellMetadata": {
      "byteLimit": 2048000,
      "rowLimit": 10000
     },
     "inputWidgets": {},
     "nuid": "94141427-0a0e-4c06-aac3-e9d4bd385aac",
     "showTitle": false,
     "title": ""
    }
   },
   "outputs": [
    {
     "output_type": "stream",
     "name": "stdout",
     "output_type": "stream",
     "text": [
      "Out[7]: DataFrame[id: int, date: string]"
     ]
    }
   ],
   "source": [
    "df.withColumn('id',col('id').cast('int'))"
   ]
  },
  {
   "cell_type": "code",
   "execution_count": 0,
   "metadata": {
    "application/vnd.databricks.v1+cell": {
     "cellMetadata": {
      "byteLimit": 2048000,
      "rowLimit": 10000
     },
     "inputWidgets": {},
     "nuid": "cfff1b33-4f73-46cc-9ac8-ea02a6cc060f",
     "showTitle": false,
     "title": ""
    }
   },
   "outputs": [],
   "source": [
    "df1 =df.select(col('id'),col('date'),current_date().alias('current_date'),datediff(current_date(),col('date')).alias('date_diff'),round(months_between(current_date(),col('date')),2).alias('month_diff'),round(months_between(current_date(),col('date'))/lit(12)).alias('Year'))"
   ]
  },
  {
   "cell_type": "code",
   "execution_count": 0,
   "metadata": {
    "application/vnd.databricks.v1+cell": {
     "cellMetadata": {
      "byteLimit": 2048000,
      "rowLimit": 10000
     },
     "inputWidgets": {},
     "nuid": "8de3e0a1-bdfa-49f3-9b55-869572480076",
     "showTitle": false,
     "title": ""
    }
   },
   "outputs": [
    {
     "output_type": "stream",
     "name": "stdout",
     "output_type": "stream",
     "text": [
      "root\n |-- id: string (nullable = true)\n |-- date: string (nullable = true)\n |-- current_date: date (nullable = false)\n |-- date_diff: integer (nullable = true)\n |-- month_diff: double (nullable = true)\n |-- Year: double (nullable = true)\n\n+---+----------+------------+---------+----------+----+\n| id|      date|current_date|date_diff|month_diff|Year|\n+---+----------+------------+---------+----------+----+\n|  1|2019-07-01|  2024-07-07|     1833|     60.19| 5.0|\n|  2|2019-06-24|  2024-07-07|     1840|     60.45| 5.0|\n|  3|2019-08-24|  2024-07-07|     1779|     58.45| 5.0|\n+---+----------+------------+---------+----------+----+\n\n"
     ]
    }
   ],
   "source": [
    "\n",
    "df1.printSchema()\n",
    "df1.show()"
   ]
  },
  {
   "cell_type": "code",
   "execution_count": 0,
   "metadata": {
    "application/vnd.databricks.v1+cell": {
     "cellMetadata": {},
     "inputWidgets": {},
     "nuid": "019101ad-9738-46d2-b9b2-c9505ab28c1b",
     "showTitle": false,
     "title": ""
    }
   },
   "outputs": [],
   "source": []
  }
 ],
 "metadata": {
  "application/vnd.databricks.v1+notebook": {
   "dashboards": [],
   "environmentMetadata": null,
   "language": "python",
   "notebookMetadata": {
    "pythonIndentUnit": 4
   },
   "notebookName": "date_functions",
   "widgets": {}
  }
 },
 "nbformat": 4,
 "nbformat_minor": 0
}
