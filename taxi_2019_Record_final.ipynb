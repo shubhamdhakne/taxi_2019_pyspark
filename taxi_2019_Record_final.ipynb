{
 "cells": [
  {
   "cell_type": "markdown",
   "metadata": {
    "application/vnd.databricks.v1+cell": {
     "cellMetadata": {
      "byteLimit": 2048000,
      "rowLimit": 10000
     },
     "inputWidgets": {},
     "nuid": "d8bdb040-ca52-4680-83d0-539fce85b9de",
     "showTitle": false,
     "title": ""
    }
   },
   "source": [
    "#Yellow trip taxi jan to march records"
   ]
  },
  {
   "cell_type": "code",
   "execution_count": 0,
   "metadata": {
    "application/vnd.databricks.v1+cell": {
     "cellMetadata": {
      "byteLimit": 2048000,
      "rowLimit": 10000
     },
     "inputWidgets": {},
     "nuid": "e0e0fdb0-5ac5-4bb3-9ad3-2ff8566d2fbd",
     "showTitle": false,
     "title": ""
    }
   },
   "outputs": [],
   "source": [
    "#read dataframe yellow trip from jan to march \n",
    "yellow_trip_jan = spark.read.format('parquet').load('dbfs:/FileStore/taxi/taxi_2019/yellow_tripdata_2019_01.parquet')"
   ]
  },
  {
   "cell_type": "code",
   "execution_count": 0,
   "metadata": {
    "application/vnd.databricks.v1+cell": {
     "cellMetadata": {
      "byteLimit": 2048000,
      "rowLimit": 10000
     },
     "inputWidgets": {},
     "nuid": "bac59eab-6192-4cfb-a417-252070e873b9",
     "showTitle": false,
     "title": ""
    }
   },
   "outputs": [],
   "source": [
    "yellow_trip_feb = spark.read.format('parquet').load('dbfs:/FileStore/taxi/taxi_2019/yellow_tripdata_2019_02.parquet')\n",
    "yellow_trip_mar = spark.read.format('parquet').load('dbfs:/FileStore/taxi/taxi_2019/yellow_tripdata_2019_03.parquet')"
   ]
  },
  {
   "cell_type": "code",
   "execution_count": 0,
   "metadata": {
    "application/vnd.databricks.v1+cell": {
     "cellMetadata": {
      "byteLimit": 2048000,
      "rowLimit": 10000
     },
     "inputWidgets": {},
     "nuid": "de7b876c-4384-462f-8ebf-12171e893ef9",
     "showTitle": false,
     "title": ""
    }
   },
   "outputs": [],
   "source": [
    "#chake total and null records\n",
    "jan_count = yellow_trip_jan.count()\n",
    "feb_count = yellow_trip_feb.count()\n",
    "mar_count = yellow_trip_mar.count()\n",
    "count_sum = jan_count+feb_count+mar_count"
   ]
  },
  {
   "cell_type": "code",
   "execution_count": 0,
   "metadata": {
    "application/vnd.databricks.v1+cell": {
     "cellMetadata": {
      "byteLimit": 2048000,
      "rowLimit": 10000
     },
     "inputWidgets": {},
     "nuid": "af6bcf26-9014-4441-ac43-0ff77946eb41",
     "showTitle": false,
     "title": ""
    }
   },
   "outputs": [
    {
     "output_type": "stream",
     "name": "stdout",
     "output_type": "stream",
     "text": [
      "yellow trip count on jan months:  7696617\nyellow trip count on jan months:  7049370\nyellow trip count on jan months:  7866620\nOut[43]: 22612607"
     ]
    }
   ],
   "source": [
    "print('yellow trip count on jan months: ',jan_count)\n",
    "print('yellow trip count on jan months: ',feb_count)\n",
    "print('yellow trip count on jan months: ',mar_count)\n",
    "count_sum"
   ]
  },
  {
   "cell_type": "code",
   "execution_count": 0,
   "metadata": {
    "application/vnd.databricks.v1+cell": {
     "cellMetadata": {
      "byteLimit": 2048000,
      "rowLimit": 10000
     },
     "inputWidgets": {},
     "nuid": "bf58bc1a-ea68-4e6f-9c6b-9215e40a9693",
     "showTitle": false,
     "title": ""
    }
   },
   "outputs": [
    {
     "output_type": "stream",
     "name": "stdout",
     "output_type": "stream",
     "text": [
      "Out[5]: 7696617"
     ]
    }
   ],
   "source": [
    "# drop duplicates records\n",
    "yel_trip_jan = yellow_trip_jan.dropDuplicates()\n",
    "yel_trip_jan.count()"
   ]
  },
  {
   "cell_type": "code",
   "execution_count": 0,
   "metadata": {
    "application/vnd.databricks.v1+cell": {
     "cellMetadata": {
      "byteLimit": 2048000,
      "rowLimit": 10000
     },
     "inputWidgets": {},
     "nuid": "e23aa46a-60f9-47f4-8b97-15b9409ba535",
     "showTitle": false,
     "title": ""
    }
   },
   "outputs": [
    {
     "output_type": "stream",
     "name": "stdout",
     "output_type": "stream",
     "text": [
      "root\n |-- VendorID: long (nullable = true)\n |-- tpep_pickup_datetime: timestamp (nullable = true)\n |-- tpep_dropoff_datetime: timestamp (nullable = true)\n |-- passenger_count: double (nullable = true)\n |-- trip_distance: double (nullable = true)\n |-- RatecodeID: double (nullable = true)\n |-- store_and_fwd_flag: string (nullable = true)\n |-- PULocationID: long (nullable = true)\n |-- DOLocationID: long (nullable = true)\n |-- payment_type: long (nullable = true)\n |-- fare_amount: double (nullable = true)\n |-- extra: double (nullable = true)\n |-- mta_tax: double (nullable = true)\n |-- tip_amount: double (nullable = true)\n |-- tolls_amount: double (nullable = true)\n |-- improvement_surcharge: double (nullable = true)\n |-- total_amount: double (nullable = true)\n |-- congestion_surcharge: double (nullable = true)\n |-- airport_fee: integer (nullable = true)\n\nroot\n |-- VendorID: long (nullable = true)\n |-- tpep_pickup_datetime: timestamp (nullable = true)\n |-- tpep_dropoff_datetime: timestamp (nullable = true)\n |-- passenger_count: double (nullable = true)\n |-- trip_distance: double (nullable = true)\n |-- RatecodeID: double (nullable = true)\n |-- store_and_fwd_flag: string (nullable = true)\n |-- PULocationID: long (nullable = true)\n |-- DOLocationID: long (nullable = true)\n |-- payment_type: long (nullable = true)\n |-- fare_amount: double (nullable = true)\n |-- extra: double (nullable = true)\n |-- mta_tax: double (nullable = true)\n |-- tip_amount: double (nullable = true)\n |-- tolls_amount: double (nullable = true)\n |-- improvement_surcharge: double (nullable = true)\n |-- total_amount: double (nullable = true)\n |-- congestion_surcharge: double (nullable = true)\n |-- airport_fee: integer (nullable = true)\n\n"
     ]
    }
   ],
   "source": [
    "# yel_trip_jan.printSchema()\n",
    "# yellow_trip_jan.printSchema()"
   ]
  },
  {
   "cell_type": "code",
   "execution_count": 0,
   "metadata": {
    "application/vnd.databricks.v1+cell": {
     "cellMetadata": {
      "byteLimit": 2048000,
      "rowLimit": 10000
     },
     "inputWidgets": {},
     "nuid": "33f1018f-c46c-4739-9f28-dabb65a8f10d",
     "showTitle": false,
     "title": ""
    }
   },
   "outputs": [],
   "source": [
    "from pyspark.sql.functions import col,count,to_date,to_timestamp,date_format,union"
   ]
  },
  {
   "cell_type": "code",
   "execution_count": 0,
   "metadata": {
    "application/vnd.databricks.v1+cell": {
     "cellMetadata": {
      "byteLimit": 2048000,
      "rowLimit": 10000
     },
     "inputWidgets": {},
     "nuid": "f9110ebf-d6f8-4e0d-97c7-dd820622d650",
     "showTitle": false,
     "title": ""
    }
   },
   "outputs": [
    {
     "output_type": "stream",
     "name": "stdout",
     "output_type": "stream",
     "text": [
      "+--------+------------+\n|VendorID|count_of_vid|\n+--------+------------+\n|       5|          99|\n|       1|     2938778|\n|       2|     4680917|\n|       4|       76823|\n+--------+------------+\n\n"
     ]
    }
   ],
   "source": [
    "yellow_trip_jan.groupBy('VendorID').agg(count(col('VendorID')).alias('count_of_vid')).filter('count_of_vid >1 ').show()"
   ]
  },
  {
   "cell_type": "code",
   "execution_count": 0,
   "metadata": {
    "application/vnd.databricks.v1+cell": {
     "cellMetadata": {
      "byteLimit": 2048000,
      "rowLimit": 10000
     },
     "inputWidgets": {},
     "nuid": "f00a056c-8e2b-4eca-bde9-23972d1db6c8",
     "showTitle": false,
     "title": ""
    }
   },
   "outputs": [],
   "source": [
    "# display(yellow_trip_jan)"
   ]
  },
  {
   "cell_type": "code",
   "execution_count": 0,
   "metadata": {
    "application/vnd.databricks.v1+cell": {
     "cellMetadata": {
      "byteLimit": 2048000,
      "rowLimit": 10000
     },
     "inputWidgets": {},
     "nuid": "cbbaeb77-89ac-45bc-adb3-ace13a367d77",
     "showTitle": false,
     "title": ""
    }
   },
   "outputs": [],
   "source": [
    "yellow_trip_jan = yellow_trip_jan.withColumn('pickup_date',to_date(col('tpep_pickup_datetime'))).withColumn('dropoff_date',to_date(col('tpep_dropoff_datetime')))\n",
    "yellow_trip_feb = yellow_trip_feb.withColumn('pickup_date',to_date(col('tpep_pickup_datetime'))).withColumn('dropoff_date',to_date(col('tpep_dropoff_datetime')))\n",
    "yellow_trip_mar = yellow_trip_mar.withColumn('pickup_date',to_date(col('tpep_pickup_datetime'))).withColumn('dropoff_date',to_date(col('tpep_dropoff_datetime')))"
   ]
  },
  {
   "cell_type": "code",
   "execution_count": 0,
   "metadata": {
    "application/vnd.databricks.v1+cell": {
     "cellMetadata": {
      "byteLimit": 2048000,
      "rowLimit": 10000
     },
     "inputWidgets": {},
     "nuid": "b690a0bc-4b76-485a-a4d5-f485ce110c37",
     "showTitle": false,
     "title": ""
    }
   },
   "outputs": [
    {
     "output_type": "stream",
     "name": "stdout",
     "output_type": "stream",
     "text": [
      "Yellow trip 2019 Jan month\n+--------------------+---------------------+-----------+------------+\n|tpep_pickup_datetime|tpep_dropoff_datetime|pickup_date|dropoff_date|\n+--------------------+---------------------+-----------+------------+\n| 2019-01-01 00:46:40|  2019-01-01 00:53:20| 2019-01-01|  2019-01-01|\n| 2019-01-01 00:59:47|  2019-01-01 01:18:59| 2019-01-01|  2019-01-01|\n| 2018-12-21 13:48:30|  2018-12-21 13:52:40| 2018-12-21|  2018-12-21|\n| 2018-11-28 15:52:25|  2018-11-28 15:55:45| 2018-11-28|  2018-11-28|\n| 2018-11-28 15:56:57|  2018-11-28 15:58:33| 2018-11-28|  2018-11-28|\n+--------------------+---------------------+-----------+------------+\nonly showing top 5 rows\n\nYellow trip 2019 Feb month ... \n+--------------------+---------------------+-----------+------------+\n|tpep_pickup_datetime|tpep_dropoff_datetime|pickup_date|dropoff_date|\n+--------------------+---------------------+-----------+------------+\n| 2019-02-01 00:59:04|  2019-02-01 01:07:27| 2019-02-01|  2019-02-01|\n| 2019-02-01 00:33:09|  2019-02-01 01:03:58| 2019-02-01|  2019-02-01|\n| 2019-02-01 00:09:03|  2019-02-01 00:09:16| 2019-02-01|  2019-02-01|\n| 2019-02-01 00:45:38|  2019-02-01 00:51:10| 2019-02-01|  2019-02-01|\n| 2019-02-01 00:25:30|  2019-02-01 00:28:14| 2019-02-01|  2019-02-01|\n+--------------------+---------------------+-----------+------------+\nonly showing top 5 rows\n\nYellow trip 2019 Mar month\n+--------------------+---------------------+-----------+------------+\n|tpep_pickup_datetime|tpep_dropoff_datetime|pickup_date|dropoff_date|\n+--------------------+---------------------+-----------+------------+\n| 2019-03-01 00:24:41|  2019-03-01 00:25:31| 2019-03-01|  2019-03-01|\n| 2019-03-01 00:25:27|  2019-03-01 00:36:37| 2019-03-01|  2019-03-01|\n| 2019-03-01 00:05:21|  2019-03-01 00:38:23| 2019-03-01|  2019-03-01|\n| 2019-03-01 00:48:55|  2019-03-01 01:06:03| 2019-03-01|  2019-03-01|\n| 2019-03-01 00:11:42|  2019-03-01 00:16:40| 2019-03-01|  2019-03-01|\n+--------------------+---------------------+-----------+------------+\nonly showing top 5 rows\n\n"
     ]
    }
   ],
   "source": [
    "print('Yellow trip 2019 Jan month')\n",
    "yellow_trip_jan.select(col('tpep_pickup_datetime'),col('tpep_dropoff_datetime'),col('pickup_date'),col('dropoff_date')).show(5)\n",
    "print(\"Yellow trip 2019 Feb month ... \")\n",
    "yellow_trip_feb.select(col('tpep_pickup_datetime'),col('tpep_dropoff_datetime'),col('pickup_date'),col('dropoff_date')).show(5)\n",
    "print('Yellow trip 2019 Mar month')\n",
    "yellow_trip_mar.select(col('tpep_pickup_datetime'),col('tpep_dropoff_datetime'),col('pickup_date'),col('dropoff_date')).show(5)"
   ]
  },
  {
   "cell_type": "code",
   "execution_count": 0,
   "metadata": {
    "application/vnd.databricks.v1+cell": {
     "cellMetadata": {
      "byteLimit": 2048000,
      "rowLimit": 10000
     },
     "inputWidgets": {},
     "nuid": "01d612c5-0477-4526-bc82-b65dcab4db14",
     "showTitle": false,
     "title": ""
    }
   },
   "outputs": [],
   "source": [
    "yellow_trip_jan = yellow_trip_jan.withColumn('pickup_time',date_format(col('tpep_pickup_datetime'),\"HH:mm:ss\")).withColumn('dropoff_time',date_format(col('tpep_dropoff_datetime'),'HH:mm:ss'))\n",
    "yellow_trip_feb = yellow_trip_feb.withColumn('pickup_time',date_format(col('tpep_pickup_datetime'),\"HH:mm:ss\")).withColumn('dropoff_time',date_format(col('tpep_dropoff_datetime'),'HH:mm:ss'))\n",
    "yellow_trip_mar = yellow_trip_mar.withColumn('pickup_time',date_format(col('tpep_pickup_datetime'),\"HH:mm:ss\")).withColumn('dropoff_time',date_format(col('tpep_dropoff_datetime'),'HH:mm:ss'))"
   ]
  },
  {
   "cell_type": "code",
   "execution_count": 0,
   "metadata": {
    "application/vnd.databricks.v1+cell": {
     "cellMetadata": {
      "byteLimit": 2048000,
      "rowLimit": 10000
     },
     "inputWidgets": {},
     "nuid": "6b6e5c29-7ddb-483e-a138-66ead72e1313",
     "showTitle": false,
     "title": ""
    }
   },
   "outputs": [
    {
     "output_type": "stream",
     "name": "stdout",
     "output_type": "stream",
     "text": [
      "Yellow trip 2019 Jan month...\n+--------------------+---------------------+-----------+------------+\n|tpep_pickup_datetime|tpep_dropoff_datetime|pickup_time|dropoff_time|\n+--------------------+---------------------+-----------+------------+\n| 2019-01-01 00:46:40|  2019-01-01 00:53:20|   00:46:40|    00:53:20|\n| 2019-01-01 00:59:47|  2019-01-01 01:18:59|   00:59:47|    01:18:59|\n| 2018-12-21 13:48:30|  2018-12-21 13:52:40|   13:48:30|    13:52:40|\n| 2018-11-28 15:52:25|  2018-11-28 15:55:45|   15:52:25|    15:55:45|\n| 2018-11-28 15:56:57|  2018-11-28 15:58:33|   15:56:57|    15:58:33|\n+--------------------+---------------------+-----------+------------+\nonly showing top 5 rows\n\nYellow trip 2019 Feb month ... \n+--------------------+---------------------+-----------+------------+\n|tpep_pickup_datetime|tpep_dropoff_datetime|pickup_time|dropoff_time|\n+--------------------+---------------------+-----------+------------+\n| 2019-02-01 00:59:04|  2019-02-01 01:07:27|   00:59:04|    01:07:27|\n| 2019-02-01 00:33:09|  2019-02-01 01:03:58|   00:33:09|    01:03:58|\n| 2019-02-01 00:09:03|  2019-02-01 00:09:16|   00:09:03|    00:09:16|\n| 2019-02-01 00:45:38|  2019-02-01 00:51:10|   00:45:38|    00:51:10|\n| 2019-02-01 00:25:30|  2019-02-01 00:28:14|   00:25:30|    00:28:14|\n+--------------------+---------------------+-----------+------------+\nonly showing top 5 rows\n\nYellow trip 2019 Mar month\n+--------------------+---------------------+-----------+------------+\n|tpep_pickup_datetime|tpep_dropoff_datetime|pickup_time|dropoff_time|\n+--------------------+---------------------+-----------+------------+\n| 2019-03-01 00:24:41|  2019-03-01 00:25:31|   00:24:41|    00:25:31|\n| 2019-03-01 00:25:27|  2019-03-01 00:36:37|   00:25:27|    00:36:37|\n| 2019-03-01 00:05:21|  2019-03-01 00:38:23|   00:05:21|    00:38:23|\n| 2019-03-01 00:48:55|  2019-03-01 01:06:03|   00:48:55|    01:06:03|\n| 2019-03-01 00:11:42|  2019-03-01 00:16:40|   00:11:42|    00:16:40|\n+--------------------+---------------------+-----------+------------+\nonly showing top 5 rows\n\n"
     ]
    }
   ],
   "source": [
    "print('Yellow trip 2019 Jan month...')\n",
    "yellow_trip_jan.select(col('tpep_pickup_datetime'),col('tpep_dropoff_datetime'),col('pickup_time'),col('dropoff_time')).show(5)\n",
    "print(\"Yellow trip 2019 Feb month ... \")\n",
    "yellow_trip_feb.select(col('tpep_pickup_datetime'),col('tpep_dropoff_datetime'),col('pickup_time'),col('dropoff_time')).show(5)\n",
    "print('Yellow trip 2019 Mar month')\n",
    "yellow_trip_mar.select(col('tpep_pickup_datetime'),col('tpep_dropoff_datetime'),col('pickup_time'),col('dropoff_time')).show(5)"
   ]
  },
  {
   "cell_type": "code",
   "execution_count": 0,
   "metadata": {
    "application/vnd.databricks.v1+cell": {
     "cellMetadata": {
      "byteLimit": 2048000,
      "rowLimit": 10000
     },
     "inputWidgets": {},
     "nuid": "403543e8-04fb-4aa5-9f7d-8c4944e10230",
     "showTitle": false,
     "title": ""
    }
   },
   "outputs": [
    {
     "output_type": "stream",
     "name": "stdout",
     "output_type": "stream",
     "text": [
      "check number of paritiion\ncheck no of partition jan  1\ncheck no of partition feb  1\ncheck no of partition mar  1\n"
     ]
    }
   ],
   "source": [
    "print('check number of paritiion')\n",
    "jan = yellow_trip_jan.rdd.getNumPartitions()\n",
    "print(\"check no of partition jan \",jan)\n",
    "feb = yellow_trip_feb.rdd.getNumPartitions()\n",
    "print(\"check no of partition feb \", feb)\n",
    "mar = yellow_trip_mar.rdd.getNumPartitions()\n",
    "print(\"check no of partition mar \",mar)"
   ]
  },
  {
   "cell_type": "code",
   "execution_count": 0,
   "metadata": {
    "application/vnd.databricks.v1+cell": {
     "cellMetadata": {
      "byteLimit": 2048000,
      "rowLimit": 10000
     },
     "inputWidgets": {},
     "nuid": "0eaa14b0-f896-4d70-9da5-8721146cddec",
     "showTitle": false,
     "title": ""
    }
   },
   "outputs": [],
   "source": [
    "union_df = yellow_trip_jan.union(yellow_trip_feb)"
   ]
  },
  {
   "cell_type": "code",
   "execution_count": 0,
   "metadata": {
    "application/vnd.databricks.v1+cell": {
     "cellMetadata": {
      "byteLimit": 2048000,
      "rowLimit": 10000
     },
     "inputWidgets": {},
     "nuid": "4d75426b-fb34-454a-958a-7e8ef884227d",
     "showTitle": false,
     "title": ""
    }
   },
   "outputs": [],
   "source": [
    "union_df= union_df.union(yellow_trip_mar)"
   ]
  },
  {
   "cell_type": "code",
   "execution_count": 0,
   "metadata": {
    "application/vnd.databricks.v1+cell": {
     "cellMetadata": {
      "byteLimit": 2048000,
      "rowLimit": 10000
     },
     "inputWidgets": {},
     "nuid": "2879dc23-0886-4ec1-bdf4-2e894b1d1b02",
     "showTitle": false,
     "title": ""
    }
   },
   "outputs": [
    {
     "output_type": "stream",
     "name": "stdout",
     "output_type": "stream",
     "text": [
      "Out[55]: 22612607"
     ]
    }
   ],
   "source": [
    "union_df.count()"
   ]
  },
  {
   "cell_type": "code",
   "execution_count": 0,
   "metadata": {
    "application/vnd.databricks.v1+cell": {
     "cellMetadata": {
      "byteLimit": 2048000,
      "rowLimit": 10000
     },
     "inputWidgets": {},
     "nuid": "32aea8d5-a12f-4264-8a34-96736f7e3a5d",
     "showTitle": false,
     "title": ""
    }
   },
   "outputs": [
    {
     "output_type": "stream",
     "name": "stdout",
     "output_type": "stream",
     "text": [
      " it is equal count\n"
     ]
    }
   ],
   "source": [
    "if count_sum == union_df.count():\n",
    "    print(\" it is equal count\")\n",
    "else:\n",
    "    print(\"count error\")"
   ]
  },
  {
   "cell_type": "code",
   "execution_count": 0,
   "metadata": {
    "application/vnd.databricks.v1+cell": {
     "cellMetadata": {
      "byteLimit": 2048000,
      "rowLimit": 10000
     },
     "inputWidgets": {},
     "nuid": "bebaba3d-d48a-400e-9d33-cbf563443bf4",
     "showTitle": false,
     "title": ""
    }
   },
   "outputs": [
    {
     "output_type": "stream",
     "name": "stdout",
     "output_type": "stream",
     "text": [
      "Out[46]: <bound method DBUtils.FSHandler.prettify_exception_message.<locals>.f_with_exception_handling of Package 'dbutils.fs'. For more information, type 'display(dbutils.fs)' in a cell.>"
     ]
    }
   ],
   "source": [
    "dbutils.fs.ls "
   ]
  },
  {
   "cell_type": "code",
   "execution_count": 0,
   "metadata": {
    "application/vnd.databricks.v1+cell": {
     "cellMetadata": {
      "byteLimit": 2048000,
      "rowLimit": 10000
     },
     "inputWidgets": {},
     "nuid": "b0e39f1d-d789-49d6-a48f-720c9f0e2428",
     "showTitle": false,
     "title": ""
    }
   },
   "outputs": [],
   "source": [
    "union_df.write.format('parquet').save('dbfs:/Filestore/taxi_2019/yellow_taxi_2019_jan_mar.parquet')"
   ]
  },
  {
   "cell_type": "code",
   "execution_count": 0,
   "metadata": {
    "application/vnd.databricks.v1+cell": {
     "cellMetadata": {
      "byteLimit": 2048000,
      "rowLimit": 10000
     },
     "inputWidgets": {},
     "nuid": "86e7f451-2a91-4636-8fbe-479028a76aa9",
     "showTitle": false,
     "title": ""
    }
   },
   "outputs": [
    {
     "output_type": "stream",
     "name": "stdout",
     "output_type": "stream",
     "text": [
      "Out[51]: [FileInfo(path='dbfs:/Filestore/taxi_2019/yellow_taxi_2019_jan_mar.parquet/_SUCCESS', name='_SUCCESS', size=0, modificationTime=1720867148000),\n FileInfo(path='dbfs:/Filestore/taxi_2019/yellow_taxi_2019_jan_mar.parquet/_committed_8849889935044942599', name='_committed_8849889935044942599', size=321, modificationTime=1720867148000),\n FileInfo(path='dbfs:/Filestore/taxi_2019/yellow_taxi_2019_jan_mar.parquet/_started_8849889935044942599', name='_started_8849889935044942599', size=0, modificationTime=1720866934000),\n FileInfo(path='dbfs:/Filestore/taxi_2019/yellow_taxi_2019_jan_mar.parquet/part-00000-tid-8849889935044942599-8572aa52-7a6a-4f91-9a82-0cc3171cef29-53-1-c000.snappy.parquet', name='part-00000-tid-8849889935044942599-8572aa52-7a6a-4f91-9a82-0cc3171cef29-53-1-c000.snappy.parquet', size=192789857, modificationTime=1720867119000),\n FileInfo(path='dbfs:/Filestore/taxi_2019/yellow_taxi_2019_jan_mar.parquet/part-00001-tid-8849889935044942599-8572aa52-7a6a-4f91-9a82-0cc3171cef29-54-1-c000.snappy.parquet', name='part-00001-tid-8849889935044942599-8572aa52-7a6a-4f91-9a82-0cc3171cef29-54-1-c000.snappy.parquet', size=178895527, modificationTime=1720867136000),\n FileInfo(path='dbfs:/Filestore/taxi_2019/yellow_taxi_2019_jan_mar.parquet/part-00002-tid-8849889935044942599-8572aa52-7a6a-4f91-9a82-0cc3171cef29-55-1-c000.snappy.parquet', name='part-00002-tid-8849889935044942599-8572aa52-7a6a-4f91-9a82-0cc3171cef29-55-1-c000.snappy.parquet', size=200253091, modificationTime=1720867146000)]"
     ]
    }
   ],
   "source": [
    "dbutils.fs.ls (\"/Filestore/taxi_2019/yellow_taxi_2019_jan_mar.parquet\")"
   ]
  },
  {
   "cell_type": "code",
   "execution_count": 0,
   "metadata": {
    "application/vnd.databricks.v1+cell": {
     "cellMetadata": {
      "byteLimit": 2048000,
      "rowLimit": 10000
     },
     "inputWidgets": {},
     "nuid": "f0693dc3-7269-4631-84e5-2d1b63db3730",
     "showTitle": false,
     "title": ""
    }
   },
   "outputs": [
    {
     "output_type": "stream",
     "name": "stdout",
     "output_type": "stream",
     "text": [
      "Out[52]: 3"
     ]
    }
   ],
   "source": [
    "union_df.rdd.getNumPartitions()"
   ]
  },
  {
   "cell_type": "code",
   "execution_count": 0,
   "metadata": {
    "application/vnd.databricks.v1+cell": {
     "cellMetadata": {
      "byteLimit": 2048000,
      "rowLimit": 10000
     },
     "inputWidgets": {},
     "nuid": "a2c6abbd-d77f-4d5c-8eb0-efcfab85e6df",
     "showTitle": false,
     "title": ""
    }
   },
   "outputs": [],
   "source": [
    "union_df = union_df.repartition(5)"
   ]
  },
  {
   "cell_type": "code",
   "execution_count": 0,
   "metadata": {
    "application/vnd.databricks.v1+cell": {
     "cellMetadata": {
      "byteLimit": 2048000,
      "rowLimit": 10000
     },
     "inputWidgets": {},
     "nuid": "f2eb0610-a073-4562-b0ff-f06a660c37df",
     "showTitle": false,
     "title": ""
    }
   },
   "outputs": [],
   "source": [
    "union_df.write.format('parquet').mode('overwrite').save('dbfs:/Filestore/taxi_2019/yellow_taxi_2019_jan_mar.parquet')\n"
   ]
  },
  {
   "cell_type": "code",
   "execution_count": 0,
   "metadata": {
    "application/vnd.databricks.v1+cell": {
     "cellMetadata": {},
     "inputWidgets": {},
     "nuid": "de66d3f0-c01c-4f56-9e30-77f831d3a2d9",
     "showTitle": false,
     "title": ""
    }
   },
   "outputs": [],
   "source": []
  }
 ],
 "metadata": {
  "application/vnd.databricks.v1+notebook": {
   "dashboards": [],
   "environmentMetadata": null,
   "language": "python",
   "notebookMetadata": {
    "pythonIndentUnit": 4
   },
   "notebookName": "taxi_2019_Record",
   "widgets": {}
  }
 },
 "nbformat": 4,
 "nbformat_minor": 0
}
